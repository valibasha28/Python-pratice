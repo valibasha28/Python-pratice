{
 "cells": [
  {
   "cell_type": "markdown",
   "id": "9bbd0426",
   "metadata": {},
   "source": [
    "Procedure-oriented programming (POP), which consists of a list of instructions to tell the computer what to do; these instructions are then organized into functions. The program is divided into a collection of variables, data structures, and routines to accomplish different tasks. Python is a multi-paradigm programming language, which means it supports different programming approach. One different way to program in Python is object-oriented programming (OOP). The learning curve is steeper, but it is extremely very powerful and worth the time invested in mastering it. Note: you do not have to use OOP when programming in Python. You can still write very powerful programs using the POP. That said, the POP is good for simple and small programs, while the OOP is better suited for large programs. Let us take a closer look at object-oriented programming."
   ]
  },
  {
   "cell_type": "markdown",
   "id": "23bb20a8",
   "metadata": {},
   "source": [
    "object-oriented programming breaks the programming task into objects, which combine data (known as attributes) and behaviors/functions (known as methods). Therefore, there are two main components of the OOP: class and object."
   ]
  },
  {
   "cell_type": "code",
   "execution_count": 2,
   "id": "2735a020",
   "metadata": {},
   "outputs": [],
   "source": [
    "class People():\n",
    "    def __init__(self, name, age):\n",
    "        self.name = name\n",
    "        self.age = age\n",
    "        \n",
    "    def greet(self):\n",
    "        print(\"Greetings, \" + self.name)"
   ]
  },
  {
   "cell_type": "code",
   "execution_count": 3,
   "id": "34ba3d98",
   "metadata": {},
   "outputs": [
    {
     "name": "stdout",
     "output_type": "stream",
     "text": [
      "Greetings, Iron Man\n",
      "Iron Man\n",
      "35\n"
     ]
    }
   ],
   "source": [
    "person1 = People(name = 'Iron Man', age = 35)\n",
    "person1.greet()\n",
    "print(person1.name)\n",
    "print(person1.age)"
   ]
  },
  {
   "cell_type": "code",
   "execution_count": 4,
   "id": "659676bc",
   "metadata": {},
   "outputs": [
    {
     "name": "stdout",
     "output_type": "stream",
     "text": [
      "Greetings, Batman\n",
      "Batman\n",
      "33\n"
     ]
    }
   ],
   "source": [
    "person2 = People(name = 'Batman', age = 33)\n",
    "person2.greet()\n",
    "print(person2.name)\n",
    "print(person2.age)"
   ]
  },
  {
   "cell_type": "markdown",
   "id": "f78be569",
   "metadata": {},
   "source": [
    "we first defined a class - People, with name and age as the data, and a method greet. We then initialized an object - person1 with the specific name and age. We can clearly see that the class defines the whole structure, while the object is just an instance of the class. Later, we instantiated another object, person2. It is clear that person1 and person2 are independent with each other, though they are all instantiated from the same class."
   ]
  },
  {
   "cell_type": "markdown",
   "id": "d8357a87",
   "metadata": {},
   "source": [
    "concept of OOP is to create reusable code. There are three key principles of using OOP:\n",
    "\n",
    "Inheritance - a way of creating new classes from existing class without modifying it.\n",
    "\n",
    "Encapsulation - a way of hiding some of the private details of a class from other objects.\n",
    "\n",
    "Polymorphism - a way of using common operation in different ways for different data input."
   ]
  },
  {
   "cell_type": "markdown",
   "id": "8851b9b4",
   "metadata": {},
   "source": [
    "# Class"
   ]
  },
  {
   "cell_type": "markdown",
   "id": "7d6ed0cd",
   "metadata": {},
   "source": [
    "A class is a definition of the structure that we want. Similar to a function, it is defined as a block of code, starting with the class statement. The syntax of defining a class is:"
   ]
  },
  {
   "cell_type": "code",
   "execution_count": 7,
   "id": "ef86cb74",
   "metadata": {},
   "outputs": [
    {
     "ename": "IndentationError",
     "evalue": "expected an indented block (<ipython-input-7-5a46fcf40355>, line 6)",
     "output_type": "error",
     "traceback": [
      "\u001b[1;36m  File \u001b[1;32m\"<ipython-input-7-5a46fcf40355>\"\u001b[1;36m, line \u001b[1;32m6\u001b[0m\n\u001b[1;33m    def_other_methods(self, arguments):\u001b[0m\n\u001b[1;37m    ^\u001b[0m\n\u001b[1;31mIndentationError\u001b[0m\u001b[1;31m:\u001b[0m expected an indented block\n"
     ]
    }
   ],
   "source": [
    "class ClassName(superclass):\n",
    "    \n",
    "    def __init__(self, arguments):\n",
    "        # define or assign object attributes\n",
    "        \n",
    "    def_other_methods(self, arguments):\n",
    "        # body of the method"
   ]
  },
  {
   "cell_type": "markdown",
   "id": "1de674da",
   "metadata": {},
   "source": [
    "Note: the definition of a class is very similar to a function. It needs to be instantiated first before you can use it. For the class name, it is standard convention to use “CapWords.”"
   ]
  },
  {
   "cell_type": "markdown",
   "id": "d8993b60",
   "metadata": {},
   "source": [
    "EXAMPLE: Define a class named Student, with the attributes sid (student id), name, gender, type in the init method and a method called say_name to print out the student’s name. All the attributes will be passed in except type, which will have a value as ‘learning’."
   ]
  },
  {
   "cell_type": "code",
   "execution_count": 9,
   "id": "c10e10d1",
   "metadata": {},
   "outputs": [],
   "source": [
    "class Student():\n",
    "    \n",
    "    def __init__(self, sid, name, gender):\n",
    "        self.sid = sid\n",
    "        self.name = name\n",
    "        self.gender = gender\n",
    "        self.type = 'learning'\n",
    "        \n",
    "    def say_name(self):\n",
    "        print(\"My name is \" + self.name)"
   ]
  },
  {
   "cell_type": "markdown",
   "id": "b47d8d0c",
   "metadata": {},
   "source": [
    "we can see this simple class contains all the necessary parts mentioned previously. The __init__ method will initialize the attributes when we create an object. We need to pass in the initial value for sid, name, and gender, while the attribute type is a fixed value as “learning”.\n",
    "\n",
    "These attributes can be accessed by all the other methods defined in the class with self.attribute, for example, in the say_name method, we can use the name attribute with self.name. The methods defined in the class can be accessed and used in other different methods as well using self.method"
   ]
  },
  {
   "cell_type": "markdown",
   "id": "b4d83247",
   "metadata": {},
   "source": [
    "# TASK"
   ]
  },
  {
   "cell_type": "markdown",
   "id": "e2d42cf0",
   "metadata": {},
   "source": [
    "TRY IT! Add a method report that print not only the student name, but also the student id. The method will have another argument score, that will pass in a number between 0 - 100 as part of the report."
   ]
  },
  {
   "cell_type": "code",
   "execution_count": 11,
   "id": "d5df715d",
   "metadata": {},
   "outputs": [],
   "source": [
    "class Student():\n",
    "    \n",
    "    def __init__(self, sid, name, gender):\n",
    "        self.sid = sid\n",
    "        self.name = name\n",
    "        self.gender = gender\n",
    "        self.type = 'learning'\n",
    "        \n",
    "    def say_name(self):\n",
    "        print(\"My name is \" + self.name)\n",
    "        \n",
    "    def report(self, score):\n",
    "        self.say_name()\n",
    "        print(\"My id is: \" + self.sid)\n",
    "        print(\"My score is: \" + str(score))"
   ]
  },
  {
   "cell_type": "markdown",
   "id": "f1cc10d5",
   "metadata": {},
   "source": [
    "# Object"
   ]
  },
  {
   "cell_type": "markdown",
   "id": "3e2d0130",
   "metadata": {},
   "source": [
    "an object is an instance of the defined class with actual values. We can have many instances of different values associated with the class, and each of these instances will be independent with each other as we saw previously. Also, after we create an object, and call this instance method from the object, we do not need to give value to the self parameter since Python automatically provides it."
   ]
  },
  {
   "cell_type": "markdown",
   "id": "a493ccc1",
   "metadata": {},
   "source": [
    "EXAMPLE: Create two objects (“001”, “Susan”, “F”) and (“002”, “Mike”, “M”), and call the method say_name."
   ]
  },
  {
   "cell_type": "code",
   "execution_count": 13,
   "id": "9ae3cd2e",
   "metadata": {},
   "outputs": [
    {
     "name": "stdout",
     "output_type": "stream",
     "text": [
      "My name is Susan\n",
      "My name is Mike\n",
      "learning\n",
      "F\n"
     ]
    }
   ],
   "source": [
    "student1 = Student(\"001\", \"Susan\", \"F\")\n",
    "student2 = Student(\"002\", \"Mike\", \"M\")\n",
    "\n",
    "student1.say_name()\n",
    "student2.say_name()\n",
    "print(student1.type)\n",
    "print(student1.gender)"
   ]
  },
  {
   "cell_type": "markdown",
   "id": "448147cb",
   "metadata": {},
   "source": [
    "we created two objects, student1 and student2, with two different sets of values. Each object is an instance of the Student class and has a different set of attributes. Type student1.+TAB to see the defined attributes and methods. To get access to one attribute, type object.attribute, e.g., student1.type. In contrast, to call a method, you need the parentheses because you are calling a function, such as student1.say_name()."
   ]
  },
  {
   "cell_type": "markdown",
   "id": "75850eae",
   "metadata": {},
   "source": [
    "# TASK"
   ]
  },
  {
   "cell_type": "markdown",
   "id": "083db340",
   "metadata": {},
   "source": [
    "TRY IT! Call method report for student1 and student2 with score 95 and 90 individually. Note: we do not need the “self” as an argument here."
   ]
  },
  {
   "cell_type": "code",
   "execution_count": 15,
   "id": "e548e096",
   "metadata": {},
   "outputs": [
    {
     "name": "stdout",
     "output_type": "stream",
     "text": [
      "My name is Susan\n",
      "My id is: 001\n",
      "My score is: 95\n",
      "My name is Mike\n",
      "My id is: 002\n",
      "My score is: 90\n"
     ]
    }
   ],
   "source": [
    "student1.report(95)\n",
    "student2.report(90)"
   ]
  },
  {
   "cell_type": "markdown",
   "id": "7f70ad2c",
   "metadata": {},
   "source": [
    "We can see both methods calling to print out the data associated with the two objects. Note: the score value we passed in is only available to the method report (within the scope of this method). We can also see that the method say_name call in the report also works, as long as you call the method with the self in it.\n",
    "\n"
   ]
  },
  {
   "cell_type": "markdown",
   "id": "702a2067",
   "metadata": {},
   "source": [
    "# Class vs instance attributes"
   ]
  },
  {
   "cell_type": "markdown",
   "id": "41802555",
   "metadata": {},
   "source": [
    "The attributes we presented above are actually called instance attributes, which means that they are only belong to a specific instance; when you use them, you need to use the self.attribute within the class. There are another type of attributes called class attributes, which will be shared with all the instances created from this class. Let us see an example how to define and use a class attribute."
   ]
  },
  {
   "cell_type": "markdown",
   "id": "a14651c6",
   "metadata": {},
   "source": [
    "EXAMPLE: Modify the Student class to add a class attribute n, which will record how many object we are creating. Also, add a method num_instances to print out the number."
   ]
  },
  {
   "cell_type": "code",
   "execution_count": 17,
   "id": "2ae709df",
   "metadata": {},
   "outputs": [],
   "source": [
    "class Student():\n",
    "    \n",
    "    n_instances = 0\n",
    "    \n",
    "    def __init__(self, sid, name, gender):\n",
    "        self.sid = sid\n",
    "        self.name = name\n",
    "        self.gender = gender\n",
    "        self.type = 'learning'\n",
    "        Student.n_instances += 1\n",
    "        \n",
    "    def say_name(self):\n",
    "        print(\"My name is \" + self.name)\n",
    "        \n",
    "    def report(self, score):\n",
    "        self.say_name()\n",
    "        print(\"My id is: \" + self.sid)\n",
    "        print(\"My score is: \" + str(score))\n",
    "        \n",
    "    def num_instances(self):\n",
    "        print(f'We have {Student.n_instances}-instance in total')"
   ]
  },
  {
   "cell_type": "markdown",
   "id": "b71a4510",
   "metadata": {},
   "source": [
    "In defining a class attribute, we must define it outside of all the other methods without using self. To use the class attributes, we use ClassName.attribute, which in this case is Student.n. This attribute will be shared with all the instances that are created from this class. "
   ]
  },
  {
   "cell_type": "code",
   "execution_count": 18,
   "id": "165bfaa0",
   "metadata": {},
   "outputs": [
    {
     "name": "stdout",
     "output_type": "stream",
     "text": [
      "We have 1-instance in total\n",
      "We have 2-instance in total\n",
      "We have 2-instance in total\n"
     ]
    }
   ],
   "source": [
    "student1 = Student(\"001\", \"Susan\", \"F\")\n",
    "student1.num_instances()\n",
    "student2 = Student(\"002\", \"Mike\", \"M\")\n",
    "student1.num_instances()\n",
    "student2.num_instances()"
   ]
  },
  {
   "cell_type": "markdown",
   "id": "8896a4f0",
   "metadata": {},
   "source": [
    " we created two objects, the instance attribute sid, name, but gender only belongs to the specific object. For example, student1.name is “Susan” and student2.name is “Mike”. But when we print out the class attribute Student.n_instances after we created object student2, the one in the student1 changes as well. This is the expectation we have for the class attribute because it is shared across all the created objects."
   ]
  },
  {
   "cell_type": "markdown",
   "id": "ad8f5979",
   "metadata": {},
   "source": [
    "OOP and POP are different. OOP has many benefits and is often more appropriate for use in large-scale projects.\n",
    "\n",
    "Class is the blueprint of the structure that allows us to group data and methods, while object is an instance from the class.\n",
    "\n",
    "The concept of “inheritance” is key to OOP, which allows us to refer attributes or methods from the superclass.\n",
    "\n",
    "The concept of “encapsulation” allows us to hide some of the private details of a class from other objects.\n",
    "\n",
    "The concept of “polymorphism” allows us to use common operation in different ways for different data input.\n",
    "\n"
   ]
  },
  {
   "cell_type": "markdown",
   "id": "c2dc30f6",
   "metadata": {},
   "source": [
    "# Problems\n"
   ]
  },
  {
   "cell_type": "markdown",
   "id": "6cf553b8",
   "metadata": {},
   "source": [
    "Describe what are the differences of classes versus objects.\n",
    "\n",
    "Describe why we use self as the first argument in the methods.\n",
    "\n",
    "What is a constructor? And why do we use it?\n",
    "\n",
    "Describe the differences between class and instance attributes.\n",
    "\n",
    "The following is a definition of the class Point that takes in the coordinate x, y. Add a method plot_point that plot the position of point."
   ]
  },
  {
   "cell_type": "code",
   "execution_count": 21,
   "id": "69f0644c",
   "metadata": {},
   "outputs": [],
   "source": [
    "import matplotlib.pyplot as plt\n",
    "\n",
    "class Point():\n",
    "   def __init__(self, x, y):\n",
    "       self.x = x\n",
    "       self.y = y"
   ]
  },
  {
   "cell_type": "markdown",
   "id": "9932ea56",
   "metadata": {},
   "source": [
    "Use the class from problem 5, add a method calculate_dist which takes in x and y from another point, and returns the distance calculated between the two points.\n",
    "\n",
    "What’s inheritance?\n",
    "\n",
    "How do we inherit from a superclass and add new methods?\n",
    "\n",
    "When we inherit from a superclass, we need to replace a method with a new one, how do we do that?\n",
    "\n",
    "What’s the super method? Why do we need it?\n",
    "\n",
    "Create a class to model some real world object and create a new class to inherit from it. One example can be the following. You should use a different example and use as many things we learned as possible."
   ]
  },
  {
   "cell_type": "code",
   "execution_count": 22,
   "id": "f3cdcc18",
   "metadata": {},
   "outputs": [
    {
     "name": "stdout",
     "output_type": "stream",
     "text": [
      "I am ready to drive!\n",
      "I am still running!\n"
     ]
    }
   ],
   "source": [
    "class Car():\n",
    "    def __init__(self, brand, color):\n",
    "        self.brand = brand\n",
    "        self.color = color\n",
    "    \n",
    "    def start_my_car(self):\n",
    "        print('I am ready to drive!')\n",
    "        \n",
    "class Truck(Car):\n",
    "    def __init__(self, brand, color, size):\n",
    "        super().__init__(brand, color)\n",
    "        self.size = size\n",
    "        \n",
    "    def start_my_car(self, key):\n",
    "        if key == 'truck_key':\n",
    "            print('I am ready to drive!')\n",
    "        else:\n",
    "            print('Key is not right')\n",
    "            \n",
    "    def stop_my_car(self, brake):\n",
    "        if brake:\n",
    "            print('The engine is stopped!')\n",
    "        else:\n",
    "            print('I am still running!')\n",
    "            \n",
    "truck1 = Truck('Toyota', 'Silver', 'Large')\n",
    "truck1.start_my_car('truck_key')\n",
    "truck1.stop_my_car(brake = False)"
   ]
  },
  {
   "cell_type": "markdown",
   "id": "dab8cf30",
   "metadata": {},
   "source": [
    "# Inheritance, Encapsulation and Polymorphism"
   ]
  },
  {
   "cell_type": "markdown",
   "id": "73c58cb0",
   "metadata": {},
   "source": [
    "# Inheritance"
   ]
  },
  {
   "cell_type": "markdown",
   "id": "685a6c52",
   "metadata": {},
   "source": [
    "Inheritance allows us to define a class that inherits all the methods and attributes from another class. Convention denotes the new class as child class, and the one that it inherits from is called parent class or superclass. If we refer back to the definition of class structure, we can see the structure for basic inheritance is class ClassName(superclass), which means the new class can access all the attributes and methods from the superclass. Inheritance builds a relationship between the child class and parent class, usually in a way that the parent class is a general type while the child class is a specific type. "
   ]
  },
  {
   "cell_type": "markdown",
   "id": "064446de",
   "metadata": {},
   "source": [
    "# TASK"
   ]
  },
  {
   "cell_type": "markdown",
   "id": "88e7b343",
   "metadata": {},
   "source": [
    "TRY IT! Define a class named Sensor with attributes name, location, and record_date that pass from the creation of an object and an attribute data as an empty dictionary to store data. Create one method add_data with t and data as input parameters to take in timestamp and data arrays. Within this method, assign t and data to the data attribute with ‘time’ and ‘data’ as the keys. In addition, it should have one clear_data method to delete the data."
   ]
  },
  {
   "cell_type": "code",
   "execution_count": 24,
   "id": "a78fa39c",
   "metadata": {},
   "outputs": [],
   "source": [
    "class Sensor():\n",
    "    def __init__(self, name, location, record_date):\n",
    "        self.name = name\n",
    "        self.location = location\n",
    "        self.record_date = record_date\n",
    "        self.data = {}\n",
    "        \n",
    "    def add_data(self, t, data):\n",
    "        self.data['time'] = t\n",
    "        self.data['data'] = data\n",
    "        print(f'We have {len(data)} points saved')        \n",
    "        \n",
    "    def clear_data(self):\n",
    "        self.data = {}\n",
    "        print('Data cleared!')"
   ]
  },
  {
   "cell_type": "markdown",
   "id": "6d248868",
   "metadata": {},
   "source": [
    "Now we have a class to store general sensor information, we can create a sensor object to store some data."
   ]
  },
  {
   "cell_type": "markdown",
   "id": "849fa111",
   "metadata": {},
   "source": [
    "# EXAMPLE: Create a sensor object."
   ]
  },
  {
   "cell_type": "code",
   "execution_count": 25,
   "id": "dd7d19c0",
   "metadata": {},
   "outputs": [
    {
     "name": "stdout",
     "output_type": "stream",
     "text": [
      "We have 10 points saved\n"
     ]
    },
    {
     "data": {
      "text/plain": [
       "{'time': array([0, 1, 2, 3, 4, 5, 6, 7, 8, 9]),\n",
       " 'data': array([-4,  1, -3,  4, -4,  0,  3,  8,  9,  5])}"
      ]
     },
     "execution_count": 25,
     "metadata": {},
     "output_type": "execute_result"
    }
   ],
   "source": [
    "import numpy as np\n",
    "\n",
    "sensor1 = Sensor('sensor1', 'Berkeley', '2019-01-01')\n",
    "data = np.random.randint(-10, 10, 10)\n",
    "sensor1.add_data(np.arange(10), data)\n",
    "sensor1.data"
   ]
  },
  {
   "cell_type": "markdown",
   "id": "7139465b",
   "metadata": {},
   "source": [
    "# Inherit and extend new method"
   ]
  },
  {
   "cell_type": "markdown",
   "id": "e98564b1",
   "metadata": {},
   "source": [
    "we have one different type of sensor: an accelerometer. It shares the same attributes and methods as Sensor class, but it also has different attributes or methods need to be appended or modified from the original class. What should we do? Do we create a different class from scratch? This is where inheritance can be used to make life easier. This new class will inherit from the Sensor class with all the attributes and methods. We can whether we want to extend the attributes or methods. Let us first create this new class, Accelerometer, and add a new method, show_type, to report what kind of sensor it is."
   ]
  },
  {
   "cell_type": "code",
   "execution_count": 26,
   "id": "ab15e04b",
   "metadata": {},
   "outputs": [
    {
     "name": "stdout",
     "output_type": "stream",
     "text": [
      "I am an accelerometer!\n",
      "We have 10 points saved\n"
     ]
    },
    {
     "data": {
      "text/plain": [
       "{'time': array([0, 1, 2, 3, 4, 5, 6, 7, 8, 9]),\n",
       " 'data': array([ 9,  4,  6,  3, -5,  1, -5, -2, -1,  9])}"
      ]
     },
     "execution_count": 26,
     "metadata": {},
     "output_type": "execute_result"
    }
   ],
   "source": [
    "class Accelerometer(Sensor):\n",
    "    \n",
    "    def show_type(self):\n",
    "        print('I am an accelerometer!')\n",
    "        \n",
    "acc = Accelerometer('acc1', 'Oakland', '2019-02-01')\n",
    "acc.show_type()\n",
    "data = np.random.randint(-10, 10, 10)\n",
    "acc.add_data(np.arange(10), data)\n",
    "acc.data"
   ]
  },
  {
   "cell_type": "markdown",
   "id": "17f447c1",
   "metadata": {},
   "source": [
    "Creating this new Accelerometer class is very simple. We inherit from Sensor (denoted as a superclass), and the new class actually contains all the attributes and methods from the superclass. We then add a new method, show_type, which does not exist in the Sensor class, but we can successfully extend the child class by adding the new method. This shows the power of inheritance: we have reused most part of the Sensor class in a new class, and extended the functionality. Besides, the inheritance sets up a logical relationship for the modeling of the real-world entities : the Sensor class as the parent class is more general and passes all the characteristics to the child class Accelerometer.\n",
    "\n"
   ]
  },
  {
   "cell_type": "markdown",
   "id": "eff46603",
   "metadata": {},
   "source": [
    "# Inherit and method overriding"
   ]
  },
  {
   "cell_type": "markdown",
   "id": "e67d156b",
   "metadata": {},
   "source": [
    "When we inherit from a parent class, we can change the implementation of a method provided by the parent class, this is called method overriding."
   ]
  },
  {
   "cell_type": "markdown",
   "id": "096a87d0",
   "metadata": {},
   "source": [
    "# TASK"
   ]
  },
  {
   "cell_type": "markdown",
   "id": "5215f8c7",
   "metadata": {},
   "source": [
    "EXAMPLE: Create a class UCBAcc (a specific type of accelerometer that created at UC Berkeley) that inherits from Accelerometer but replace the show_type method that prints out the name of the sensor."
   ]
  },
  {
   "cell_type": "code",
   "execution_count": 28,
   "id": "30f55cdd",
   "metadata": {},
   "outputs": [
    {
     "name": "stdout",
     "output_type": "stream",
     "text": [
      "I am UCBAcc, created at UC Berkeley!\n"
     ]
    }
   ],
   "source": [
    "class UCBAcc(Accelerometer):\n",
    "    \n",
    "    def show_type(self):\n",
    "        print(f'I am {self.name}, created at UC Berkeley!')\n",
    "        \n",
    "acc_ucb = UCBAcc('UCBAcc', 'Berkeley', '2019-03-01')\n",
    "acc_ucb.show_type()"
   ]
  },
  {
   "cell_type": "markdown",
   "id": "aa7b4027",
   "metadata": {},
   "source": [
    "We see that, our new UCBAcc class actually overrides the method show_type with new features. In this example, we are not only inheriting features from our parent class, but we are also modifying/improving some methods.\n",
    "\n"
   ]
  },
  {
   "cell_type": "markdown",
   "id": "0b65ce5a",
   "metadata": {},
   "source": [
    "# Inherit and update attributes with super"
   ]
  },
  {
   "cell_type": "markdown",
   "id": "27960b6f",
   "metadata": {},
   "source": [
    "create a class NewSensor that inherits from Sensor class, but with updated the attributes by adding a new attribute brand. Of course, we can re-define the whole __init__ method as shown below and overriding the parent function."
   ]
  },
  {
   "cell_type": "code",
   "execution_count": 30,
   "id": "0cea52ca",
   "metadata": {},
   "outputs": [
    {
     "data": {
      "text/plain": [
       "'XYZ'"
      ]
     },
     "execution_count": 30,
     "metadata": {},
     "output_type": "execute_result"
    }
   ],
   "source": [
    "class NewSensor(Sensor):\n",
    "    def __init__(self, name, location, record_date, brand):\n",
    "        self.name = name\n",
    "        self.location = location\n",
    "        self.record_date = record_date\n",
    "        self.brand = brand\n",
    "        self.data = {}\n",
    "        \n",
    "new_sensor = NewSensor('OK', 'SF', '2019-03-01', 'XYZ')\n",
    "new_sensor.brand"
   ]
  },
  {
   "cell_type": "markdown",
   "id": "f1c01dfd",
   "metadata": {},
   "source": [
    "there is a better way to achieve the same. We can use the super method to avoid referring to the parent class explicitly. Let us see how to perform this in the following example:\n",
    "\n",
    "EXAMPLE: Redefine the attributes in inheritance."
   ]
  },
  {
   "cell_type": "code",
   "execution_count": 31,
   "id": "2f43a316",
   "metadata": {},
   "outputs": [
    {
     "data": {
      "text/plain": [
       "'XYZ'"
      ]
     },
     "execution_count": 31,
     "metadata": {},
     "output_type": "execute_result"
    }
   ],
   "source": [
    "class NewSensor(Sensor):\n",
    "    def __init__(self, name, location, record_date, brand):\n",
    "        super().__init__(name, location, record_date)\n",
    "        self.brand = brand\n",
    "        \n",
    "new_sensor = NewSensor('OK', 'SF', '2019-03-01', 'XYZ')\n",
    "new_sensor.brand"
   ]
  },
  {
   "cell_type": "markdown",
   "id": "859e668f",
   "metadata": {},
   "source": [
    "Now we can see with the super method, we avoid to list all the definition of the attributes, this helps keep your code maintainable for the foreseeable future. But it really useful when you are doing multiple inheritance, which is beyond the discussion of this book.\n",
    "\n"
   ]
  },
  {
   "cell_type": "markdown",
   "id": "741b8b24",
   "metadata": {},
   "source": [
    "# Encapsulation"
   ]
  },
  {
   "cell_type": "markdown",
   "id": "92d48420",
   "metadata": {},
   "source": [
    "Encapsulation is one of the fundamental concepts in OOP. It describes the idea of restricting access to methods and attributes in a class. This will hide the complex details from the users, and prevent data being modified by accident. In Python, this is achieved by using private methods or attributes using underscore as prefix, i.e. single “_” or double “__”."
   ]
  },
  {
   "cell_type": "markdown",
   "id": "e80534ad",
   "metadata": {},
   "source": [
    "# EXAMPLE:"
   ]
  },
  {
   "cell_type": "code",
   "execution_count": 32,
   "id": "33a006f9",
   "metadata": {},
   "outputs": [],
   "source": [
    "class Sensor():\n",
    "    def __init__(self, name, location):\n",
    "        self.name = name\n",
    "        self._location = location\n",
    "        self.__version = '1.0'\n",
    "    \n",
    "    # a getter function\n",
    "    def get_version(self):\n",
    "        print(f'The sensor version is {self.__version}')\n",
    "    \n",
    "    # a setter function\n",
    "    def set_version(self, version):\n",
    "        self.__version = version"
   ]
  },
  {
   "cell_type": "code",
   "execution_count": 33,
   "id": "bf73ee72",
   "metadata": {},
   "outputs": [
    {
     "name": "stdout",
     "output_type": "stream",
     "text": [
      "Acc\n",
      "Berkeley\n"
     ]
    },
    {
     "ename": "AttributeError",
     "evalue": "'Sensor' object has no attribute '__version'",
     "output_type": "error",
     "traceback": [
      "\u001b[1;31m---------------------------------------------------------------------------\u001b[0m",
      "\u001b[1;31mAttributeError\u001b[0m                            Traceback (most recent call last)",
      "\u001b[1;32m<ipython-input-33-ca9b481690ba>\u001b[0m in \u001b[0;36m<module>\u001b[1;34m\u001b[0m\n\u001b[0;32m      2\u001b[0m \u001b[0mprint\u001b[0m\u001b[1;33m(\u001b[0m\u001b[0msensor1\u001b[0m\u001b[1;33m.\u001b[0m\u001b[0mname\u001b[0m\u001b[1;33m)\u001b[0m\u001b[1;33m\u001b[0m\u001b[1;33m\u001b[0m\u001b[0m\n\u001b[0;32m      3\u001b[0m \u001b[0mprint\u001b[0m\u001b[1;33m(\u001b[0m\u001b[0msensor1\u001b[0m\u001b[1;33m.\u001b[0m\u001b[0m_location\u001b[0m\u001b[1;33m)\u001b[0m\u001b[1;33m\u001b[0m\u001b[1;33m\u001b[0m\u001b[0m\n\u001b[1;32m----> 4\u001b[1;33m \u001b[0mprint\u001b[0m\u001b[1;33m(\u001b[0m\u001b[0msensor1\u001b[0m\u001b[1;33m.\u001b[0m\u001b[0m__version\u001b[0m\u001b[1;33m)\u001b[0m\u001b[1;33m\u001b[0m\u001b[1;33m\u001b[0m\u001b[0m\n\u001b[0m",
      "\u001b[1;31mAttributeError\u001b[0m: 'Sensor' object has no attribute '__version'"
     ]
    }
   ],
   "source": [
    "sensor1 = Sensor('Acc', 'Berkeley')\n",
    "print(sensor1.name)\n",
    "print(sensor1._location)\n",
    "print(sensor1.__version)"
   ]
  },
  {
   "cell_type": "markdown",
   "id": "544baa5e",
   "metadata": {},
   "source": [
    "The above example shows how the encapsulation works. With single underscore, we defined a private variable, and it should not be accessed directly. But this is just convention, nothing stops you from doing that. You can still get access to it if you want to. With double underscore, we can see that the attribute __version can not be accessed or modify it directly. Therefore, to get access to the double underscore attributes, we need to use getter and setter function to access it internally,"
   ]
  },
  {
   "cell_type": "code",
   "execution_count": 34,
   "id": "3fc53220",
   "metadata": {},
   "outputs": [
    {
     "name": "stdout",
     "output_type": "stream",
     "text": [
      "The sensor version is 1.0\n"
     ]
    }
   ],
   "source": [
    "sensor1.get_version()"
   ]
  },
  {
   "cell_type": "code",
   "execution_count": 35,
   "id": "bfef1f5f",
   "metadata": {},
   "outputs": [
    {
     "name": "stdout",
     "output_type": "stream",
     "text": [
      "The sensor version is 2.0\n"
     ]
    }
   ],
   "source": [
    "sensor1.set_version('2.0')\n",
    "sensor1.get_version()"
   ]
  },
  {
   "cell_type": "markdown",
   "id": "3b14675d",
   "metadata": {},
   "source": [
    "The single and double underscore also apply to private methods as well, we will not discuss these as they are similar to the private attributes.\n",
    "\n"
   ]
  },
  {
   "cell_type": "markdown",
   "id": "e3bd880c",
   "metadata": {},
   "source": [
    "# Polymorphism"
   ]
  },
  {
   "cell_type": "markdown",
   "id": "23f8c7fc",
   "metadata": {},
   "source": [
    "Polymorphism is another fundamental concept in OOP, which means multiple forms. Polymorphism allows us to use a single interface with different underlying forms such as data types or classes. For example, we can have commonly named methods across classes or child classes. We have already seen one example above, when we override the method show_type in the UCBAcc. For parent class Accelerometer and child class UCBAcc, they both have a method named show_type, but they have different implementation. This ability of using single name with many forms acting differently in different situations greatly reduces our complexities. We will not expand to discuss more of Polymorphism, if you are interested, check more online to get a deeper understanding."
   ]
  },
  {
   "cell_type": "code",
   "execution_count": null,
   "id": "4dc0f109",
   "metadata": {},
   "outputs": [],
   "source": []
  }
 ],
 "metadata": {
  "kernelspec": {
   "display_name": "Python 3 (ipykernel)",
   "language": "python",
   "name": "python3"
  },
  "language_info": {
   "codemirror_mode": {
    "name": "ipython",
    "version": 3
   },
   "file_extension": ".py",
   "mimetype": "text/x-python",
   "name": "python",
   "nbconvert_exporter": "python",
   "pygments_lexer": "ipython3",
   "version": "3.9.7"
  }
 },
 "nbformat": 4,
 "nbformat_minor": 5
}
