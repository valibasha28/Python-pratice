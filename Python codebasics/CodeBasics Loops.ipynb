{
 "cells": [
  {
   "cell_type": "code",
   "execution_count": 3,
   "id": "5f5eeb94",
   "metadata": {},
   "outputs": [
    {
     "name": "stdout",
     "output_type": "stream",
     "text": [
      "Enter height in meters: 2\n",
      "Enter weight in kgs: 80\n",
      "BMI is:  20.0\n",
      "normal\n"
     ]
    }
   ],
   "source": [
    "height = int(input(\"Enter height in meters: \"))\n",
    "weight = int(input(\"Enter weight in kgs: \"))\n",
    "\n",
    "bmi = (weight)/((height)**2)\n",
    "print(\"BMI is: \",bmi)\n",
    "\n",
    "if bmi >= 30:\n",
    "    print(\"obesity\")\n",
    "elif bmi>25 and bmi<29:\n",
    "    print(\"overweight\")\n",
    "elif bmi>18.5 and bmi<25:\n",
    "    print(\"normal\")\n",
    "else:\n",
    "    print(\"underweight\")"
   ]
  },
  {
   "cell_type": "code",
   "execution_count": 4,
   "id": "21dfb16c",
   "metadata": {},
   "outputs": [],
   "source": [
    "India = [\"Mumbai\", \"Bangalore\", \"Chennai\", \"Delhi\"]\n",
    "USA = [\"New York\",\"Chicago\",\"Las Vegas\", \"San Francisco\"]\n",
    "UK = [\"London\", \"Manchester\", \"Liverpool\", \"Nottingham\"]"
   ]
  },
  {
   "cell_type": "code",
   "execution_count": 10,
   "id": "dd183a85",
   "metadata": {},
   "outputs": [
    {
     "name": "stdout",
     "output_type": "stream",
     "text": [
      "Enter the CITY name: Vizag\n",
      "I don't know about this city\n"
     ]
    }
   ],
   "source": [
    "city_name = input(\"Enter the CITY name: \")\n",
    "\n",
    "if city_name in India:\n",
    "    print(f\"{city_name} is in India\")\n",
    "elif city_name in USA:\n",
    "    print(f\"{city_name} is in USA\")\n",
    "elif city_name in UK:\n",
    "    print(f\"{city_name} is in UK\")\n",
    "else:\n",
    "    print(\"I don't know about this city\")"
   ]
  },
  {
   "cell_type": "code",
   "execution_count": 14,
   "id": "8ef4df23",
   "metadata": {},
   "outputs": [
    {
     "name": "stdout",
     "output_type": "stream",
     "text": [
      "Enter the CITY name 1 : London\n",
      "Enter the CITY name 2 : Mumbai\n",
      "They don't belong to same country\n"
     ]
    }
   ],
   "source": [
    "city_name1 = input(\"Enter the CITY name 1 : \")\n",
    "city_name2 = input(\"Enter the CITY name 2 : \")\n",
    "\n",
    "if city_name1 in India and city_name2 in India:\n",
    "    print(f\"{city_name1} and {city_name2} present in India\")\n",
    "elif city_name1 in USA and city_name2 in USA:\n",
    "    print(f\"{city_name1} and {city_name2} present in USA\")\n",
    "elif city_name1 in UK and city_name2 in UK:\n",
    "    print(f\"{city_name1} and {city_name2} present in UK\")\n",
    "else:\n",
    "    print(\"They don't belong to same country\")"
   ]
  },
  {
   "cell_type": "code",
   "execution_count": 3,
   "id": "6594f4fb",
   "metadata": {},
   "outputs": [
    {
     "name": "stdout",
     "output_type": "stream",
     "text": [
      "Month 1 , Expense 1200\n",
      "Month 2 , Expense 1300\n",
      "Month 3 , Expense 1500\n",
      "Month 4 , Expense 1700\n",
      "Month 5 , Expense 2100\n",
      "Month 6 , Expense 2300\n",
      "Total expenses:  10100\n"
     ]
    }
   ],
   "source": [
    "expenses = [1200,1300,1500,1700,2100,2300]\n",
    "\n",
    "total_expense = 0\n",
    "\n",
    "for i in range(len(expenses)):\n",
    "    expense = expenses[i]\n",
    "    print(f'Month {i+1} , Expense {expense}')\n",
    "    total_expense+=expense\n",
    "\n",
    "print(\"Total expenses: \",total_expense)"
   ]
  },
  {
   "cell_type": "code",
   "execution_count": 4,
   "id": "e80b6f32",
   "metadata": {},
   "outputs": [
    {
     "name": "stdout",
     "output_type": "stream",
     "text": [
      "Month 1 , Expense 1200\n",
      "Month 2 , Expense 1300\n",
      "Month 3 , Expense 1500\n",
      "Month 4 , Expense 1700\n",
      "Month 5 , Expense 2100\n",
      "Month 6 , Expense 2300\n",
      "Total expenses:  10100\n"
     ]
    }
   ],
   "source": [
    "expenses = [1200,1300,1500,1700,2100,2300]\n",
    "\n",
    "total_expense = 0\n",
    "\n",
    "for i,expense in enumerate(expenses):\n",
    "    print(f'Month {i+1} , Expense {expense}')\n",
    "    total_expense+=expense\n",
    "\n",
    "print(\"Total expenses: \",total_expense)"
   ]
  },
  {
   "cell_type": "code",
   "execution_count": 6,
   "id": "5ece6399",
   "metadata": {},
   "outputs": [
    {
     "name": "stdout",
     "output_type": "stream",
     "text": [
      "0\n",
      "1\n",
      "2\n",
      "3\n",
      "4\n",
      "5\n",
      "6\n",
      "7\n",
      "8\n",
      "9\n"
     ]
    }
   ],
   "source": [
    "n = 0\n",
    "\n",
    "while n<10:\n",
    "    print(n)\n",
    "    n += 1"
   ]
  },
  {
   "cell_type": "code",
   "execution_count": 8,
   "id": "9b45e1b2",
   "metadata": {},
   "outputs": [
    {
     "name": "stdout",
     "output_type": "stream",
     "text": [
      "Enter number of rows: 6\n",
      "* * * * * * \n",
      "* * * * * \n",
      "* * * * \n",
      "* * * \n",
      "* * \n",
      "* \n"
     ]
    }
   ],
   "source": [
    "number_of_rows = int(input(\"Enter number of rows: \"))\n",
    "\n",
    "for i in range(number_of_rows, 0 ,-1):\n",
    "    for j in range(1, i+1):\n",
    "        print(\"* \",end=\"\")\n",
    "    print(\"\\r\")\n",
    "    "
   ]
  },
  {
   "cell_type": "code",
   "execution_count": 12,
   "id": "284d482f",
   "metadata": {},
   "outputs": [
    {
     "name": "stdout",
     "output_type": "stream",
     "text": [
      "Enter number of rows: 5\n",
      "1 2 3 4 5 \n",
      "1 2 3 4 \n",
      "1 2 3 \n",
      "1 2 \n",
      "1 \n"
     ]
    }
   ],
   "source": [
    "number_of_rows = int(input(\"Enter number of rows: \"))\n",
    "\n",
    "for i in range(number_of_rows, 0 ,-1):\n",
    "    for j in range(1, i+1):\n",
    "        print(j ,end=\" \")\n",
    "    print(\"\\r\")"
   ]
  },
  {
   "cell_type": "code",
   "execution_count": 13,
   "id": "688b6f72",
   "metadata": {},
   "outputs": [
    {
     "name": "stdout",
     "output_type": "stream",
     "text": [
      "90\n"
     ]
    }
   ],
   "source": [
    "sum = 0\n",
    "\n",
    "for i in range(1,20):\n",
    "    if i%2 == 0:\n",
    "        sum+=i\n",
    "\n",
    "print(sum)"
   ]
  },
  {
   "cell_type": "code",
   "execution_count": 14,
   "id": "3edbdfa4",
   "metadata": {},
   "outputs": [
    {
     "name": "stdout",
     "output_type": "stream",
     "text": [
      "90\n"
     ]
    }
   ],
   "source": [
    "n=20\n",
    "total = 0\n",
    "\n",
    "while n<20:\n",
    "    if n%2 == 0:\n",
    "        total+=n\n",
    "    n+=1\n",
    "    \n",
    "print(sum)"
   ]
  },
  {
   "cell_type": "code",
   "execution_count": 15,
   "id": "cf5d7ec3",
   "metadata": {},
   "outputs": [],
   "source": [
    "dice_result  = [5,6,4,2,5,4,4,5,3,3,2,6,1,2,1,1,6,5]"
   ]
  },
  {
   "cell_type": "code",
   "execution_count": 21,
   "id": "f4c41e06",
   "metadata": {},
   "outputs": [
    {
     "name": "stdout",
     "output_type": "stream",
     "text": [
      "Enter a number to find how many times we got this as result: 1\n",
      "We got 1 as a result for 3 times\n"
     ]
    }
   ],
   "source": [
    "n = int(input(\"Enter a number to find how many times we got this as result: \"))\n",
    "count = 0\n",
    "\n",
    "for i in dice_result:\n",
    "    if i == n:\n",
    "        count+=1\n",
    "        \n",
    "print(f'We got {n} as a result for {count} times')"
   ]
  },
  {
   "cell_type": "code",
   "execution_count": 29,
   "id": "054bd1cc",
   "metadata": {},
   "outputs": [
    {
     "name": "stdout",
     "output_type": "stream",
     "text": [
      "Enter a number to see consecutive or not: 3\n",
      "We got 3 as a consecutive for 1 times\n"
     ]
    }
   ],
   "source": [
    "n = int(input(\"Enter a number to see consecutive or not: \"))\n",
    "con_count = 0\n",
    "\n",
    "for i in range(len(dice_result)-1):\n",
    "    if dice_result[i] == n and dice_result[i+1] == n:\n",
    "        con_count +=1\n",
    "        \n",
    "print(f'We got {n} as a consecutive for {con_count} times')"
   ]
  },
  {
   "cell_type": "code",
   "execution_count": 31,
   "id": "408cdcd0",
   "metadata": {},
   "outputs": [
    {
     "name": "stdout",
     "output_type": "stream",
     "text": [
      "Congrats, You made it.\n"
     ]
    }
   ],
   "source": [
    "push_ups_goal = 50\n",
    "push_ups_completed = 0\n",
    "\n",
    "while push_ups_completed < push_ups_goal:\n",
    "    push_ups_remaining = push_ups_goal - push_ups_completed\n",
    "    \n",
    "    if push_ups_completed >= 10:\n",
    "        print(f'You have done {push_ups_completed} push ups.')\n",
    "        print(f'You have {push_ups_remaining} push ups remaining.')\n",
    "        \n",
    "        reply = input(\"Are you tired? (yes/y to stop or no/n to continue: )\")\n",
    "        if reply == yes or reply == y:\n",
    "            print(f'You have done {push_ups_completed} push ups.')\n",
    "            break\n",
    "        elif reply == no or reply == n:\n",
    "            push_ups_completed += 10\n",
    "            continue\n",
    "        else:\n",
    "            print(\"Invalid input\")\n",
    "    else:\n",
    "        push_ups_completed += push_ups_remaining\n",
    "        print(\"Congrats, You made it.\")\n",
    "        break"
   ]
  },
  {
   "cell_type": "code",
   "execution_count": null,
   "id": "13d2170a",
   "metadata": {},
   "outputs": [],
   "source": []
  }
 ],
 "metadata": {
  "kernelspec": {
   "display_name": "Python 3 (ipykernel)",
   "language": "python",
   "name": "python3"
  },
  "language_info": {
   "codemirror_mode": {
    "name": "ipython",
    "version": 3
   },
   "file_extension": ".py",
   "mimetype": "text/x-python",
   "name": "python",
   "nbconvert_exporter": "python",
   "pygments_lexer": "ipython3",
   "version": "3.9.7"
  }
 },
 "nbformat": 4,
 "nbformat_minor": 5
}
