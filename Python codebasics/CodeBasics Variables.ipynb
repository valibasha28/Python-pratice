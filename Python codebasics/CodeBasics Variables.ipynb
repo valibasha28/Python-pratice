{
 "cells": [
  {
   "cell_type": "code",
   "execution_count": 1,
   "id": "a18cdbd5",
   "metadata": {},
   "outputs": [],
   "source": [
    "can=\"soda\""
   ]
  },
  {
   "cell_type": "code",
   "execution_count": 2,
   "id": "5056cdc7",
   "metadata": {},
   "outputs": [
    {
     "data": {
      "text/plain": [
       "'beans'"
      ]
     },
     "execution_count": 2,
     "metadata": {},
     "output_type": "execute_result"
    }
   ],
   "source": [
    "can = \"beans\"\n",
    "can"
   ]
  },
  {
   "cell_type": "code",
   "execution_count": 3,
   "id": "02dd3b01",
   "metadata": {},
   "outputs": [
    {
     "data": {
      "text/plain": [
       "str"
      ]
     },
     "execution_count": 3,
     "metadata": {},
     "output_type": "execute_result"
    }
   ],
   "source": [
    "type(can)"
   ]
  },
  {
   "cell_type": "code",
   "execution_count": 5,
   "id": "48ae5d7c",
   "metadata": {},
   "outputs": [
    {
     "data": {
      "text/plain": [
       "str"
      ]
     },
     "execution_count": 5,
     "metadata": {},
     "output_type": "execute_result"
    }
   ],
   "source": [
    "first_name = \"vali\"\n",
    "last_name = \"basha\"\n",
    "type(first_name)"
   ]
  },
  {
   "cell_type": "code",
   "execution_count": 6,
   "id": "c447be4a",
   "metadata": {},
   "outputs": [
    {
     "data": {
      "text/plain": [
       "int"
      ]
     },
     "execution_count": 6,
     "metadata": {},
     "output_type": "execute_result"
    }
   ],
   "source": [
    "pizza = 100\n",
    "type(pizza)"
   ]
  },
  {
   "cell_type": "code",
   "execution_count": 7,
   "id": "e242fe67",
   "metadata": {},
   "outputs": [
    {
     "data": {
      "text/plain": [
       "float"
      ]
     },
     "execution_count": 7,
     "metadata": {},
     "output_type": "execute_result"
    }
   ],
   "source": [
    "samosa = 20.5\n",
    "type(samosa)"
   ]
  },
  {
   "cell_type": "code",
   "execution_count": 8,
   "id": "9b4ea3e5",
   "metadata": {},
   "outputs": [],
   "source": [
    "ice_cream = 40"
   ]
  },
  {
   "cell_type": "code",
   "execution_count": 10,
   "id": "98d1e045",
   "metadata": {},
   "outputs": [
    {
     "data": {
      "text/plain": [
       "160.5"
      ]
     },
     "execution_count": 10,
     "metadata": {},
     "output_type": "execute_result"
    }
   ],
   "source": [
    "total_amount = pizza + samosa + ice_cream\n",
    "total_amount"
   ]
  },
  {
   "cell_type": "code",
   "execution_count": 11,
   "id": "ac6a1f47",
   "metadata": {},
   "outputs": [
    {
     "data": {
      "text/plain": [
       "bool"
      ]
     },
     "execution_count": 11,
     "metadata": {},
     "output_type": "execute_result"
    }
   ],
   "source": [
    "learn_python = True\n",
    "learn_fortran = False\n",
    "type(learn_python)"
   ]
  },
  {
   "cell_type": "code",
   "execution_count": 12,
   "id": "b134d5c3",
   "metadata": {},
   "outputs": [],
   "source": [
    "foo = \"jilebi\"\n",
    "bar=foo"
   ]
  },
  {
   "cell_type": "code",
   "execution_count": 14,
   "id": "fef0c819",
   "metadata": {},
   "outputs": [
    {
     "data": {
      "text/plain": [
       "2199770148464"
      ]
     },
     "execution_count": 14,
     "metadata": {},
     "output_type": "execute_result"
    }
   ],
   "source": [
    "id(foo)"
   ]
  },
  {
   "cell_type": "code",
   "execution_count": 15,
   "id": "2d6f6259",
   "metadata": {},
   "outputs": [
    {
     "data": {
      "text/plain": [
       "2199770148464"
      ]
     },
     "execution_count": 15,
     "metadata": {},
     "output_type": "execute_result"
    }
   ],
   "source": [
    "id(bar)"
   ]
  },
  {
   "cell_type": "code",
   "execution_count": 16,
   "id": "dbdc113a",
   "metadata": {},
   "outputs": [
    {
     "data": {
      "text/plain": [
       "2199770000880"
      ]
     },
     "execution_count": 16,
     "metadata": {},
     "output_type": "execute_result"
    }
   ],
   "source": [
    "bar = \"samosa\"\n",
    "id(bar)"
   ]
  },
  {
   "cell_type": "code",
   "execution_count": 17,
   "id": "fa53acf7",
   "metadata": {},
   "outputs": [
    {
     "data": {
      "text/plain": [
       "float"
      ]
     },
     "execution_count": 17,
     "metadata": {},
     "output_type": "execute_result"
    }
   ],
   "source": [
    "pi = 22/7\n",
    "type(pi)"
   ]
  },
  {
   "cell_type": "code",
   "execution_count": 18,
   "id": "4b070b8e",
   "metadata": {},
   "outputs": [
    {
     "ename": "SyntaxError",
     "evalue": "invalid syntax (Temp/ipykernel_7780/2046953698.py, line 1)",
     "output_type": "error",
     "traceback": [
      "\u001b[1;36m  File \u001b[1;32m\"C:\\Users\\BASHA\\AppData\\Local\\Temp/ipykernel_7780/2046953698.py\"\u001b[1;36m, line \u001b[1;32m1\u001b[0m\n\u001b[1;33m    for = 4\u001b[0m\n\u001b[1;37m        ^\u001b[0m\n\u001b[1;31mSyntaxError\u001b[0m\u001b[1;31m:\u001b[0m invalid syntax\n"
     ]
    }
   ],
   "source": [
    "for = 4"
   ]
  },
  {
   "cell_type": "code",
   "execution_count": 19,
   "id": "b5c68b81",
   "metadata": {},
   "outputs": [
    {
     "data": {
      "text/plain": [
       "10000.0"
      ]
     },
     "execution_count": 19,
     "metadata": {},
     "output_type": "execute_result"
    }
   ],
   "source": [
    "principal_amount = 50000\n",
    "rate_of_interest = 10\n",
    "time = 2\n",
    "\n",
    "simple_interest = (principal_amount * rate_of_interest * time)/100\n",
    "\n",
    "simple_interest"
   ]
  },
  {
   "cell_type": "code",
   "execution_count": null,
   "id": "b87abd4d",
   "metadata": {},
   "outputs": [],
   "source": []
  }
 ],
 "metadata": {
  "kernelspec": {
   "display_name": "Python 3 (ipykernel)",
   "language": "python",
   "name": "python3"
  },
  "language_info": {
   "codemirror_mode": {
    "name": "ipython",
    "version": 3
   },
   "file_extension": ".py",
   "mimetype": "text/x-python",
   "name": "python",
   "nbconvert_exporter": "python",
   "pygments_lexer": "ipython3",
   "version": "3.9.7"
  }
 },
 "nbformat": 4,
 "nbformat_minor": 5
}
