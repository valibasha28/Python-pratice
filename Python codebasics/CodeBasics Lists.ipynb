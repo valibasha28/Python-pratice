{
 "cells": [
  {
   "cell_type": "code",
   "execution_count": 1,
   "id": "2a92ff27",
   "metadata": {},
   "outputs": [
    {
     "data": {
      "text/plain": [
       "['breads', 'pasta', 'fruits', 'veggies']"
      ]
     },
     "execution_count": 1,
     "metadata": {},
     "output_type": "execute_result"
    }
   ],
   "source": [
    "items = [\"breads\",\"pasta\",\"fruits\",\"veggies\"]\n",
    "items"
   ]
  },
  {
   "cell_type": "code",
   "execution_count": 2,
   "id": "bd97b52d",
   "metadata": {},
   "outputs": [
    {
     "data": {
      "text/plain": [
       "'veggies'"
      ]
     },
     "execution_count": 2,
     "metadata": {},
     "output_type": "execute_result"
    }
   ],
   "source": [
    "items[3]"
   ]
  },
  {
   "cell_type": "code",
   "execution_count": 3,
   "id": "1cfe3f1d",
   "metadata": {},
   "outputs": [
    {
     "data": {
      "text/plain": [
       "'fruits'"
      ]
     },
     "execution_count": 3,
     "metadata": {},
     "output_type": "execute_result"
    }
   ],
   "source": [
    "items[-2]"
   ]
  },
  {
   "cell_type": "code",
   "execution_count": 4,
   "id": "c34d5d8e",
   "metadata": {},
   "outputs": [
    {
     "data": {
      "text/plain": [
       "['breads', 'pasta']"
      ]
     },
     "execution_count": 4,
     "metadata": {},
     "output_type": "execute_result"
    }
   ],
   "source": [
    "items[0:2]"
   ]
  },
  {
   "cell_type": "code",
   "execution_count": 5,
   "id": "6deb4807",
   "metadata": {},
   "outputs": [
    {
     "data": {
      "text/plain": [
       "['breads', 'pasta', 'fruits', 'veggies', 'butter']"
      ]
     },
     "execution_count": 5,
     "metadata": {},
     "output_type": "execute_result"
    }
   ],
   "source": [
    "items.append(\"butter\")\n",
    "items"
   ]
  },
  {
   "cell_type": "code",
   "execution_count": 6,
   "id": "f8569e63",
   "metadata": {},
   "outputs": [
    {
     "data": {
      "text/plain": [
       "['breads', 'pasta', 'fruits', 'veggies']"
      ]
     },
     "execution_count": 6,
     "metadata": {},
     "output_type": "execute_result"
    }
   ],
   "source": [
    "items = [\"breads\",\"pasta\",\"fruits\",\"veggies\"]\n",
    "items"
   ]
  },
  {
   "cell_type": "code",
   "execution_count": 10,
   "id": "3390a1a4",
   "metadata": {},
   "outputs": [
    {
     "data": {
      "text/plain": [
       "['breads', 'butter', 'butter', 'pasta', 'fruits', 'veggies']"
      ]
     },
     "execution_count": 10,
     "metadata": {},
     "output_type": "execute_result"
    }
   ],
   "source": [
    "items"
   ]
  },
  {
   "cell_type": "code",
   "execution_count": 11,
   "id": "67c40a3f",
   "metadata": {},
   "outputs": [],
   "source": [
    "items.remove(\"butter\")"
   ]
  },
  {
   "cell_type": "code",
   "execution_count": 12,
   "id": "0a6672f3",
   "metadata": {},
   "outputs": [
    {
     "data": {
      "text/plain": [
       "['breads', 'butter', 'pasta', 'fruits', 'veggies']"
      ]
     },
     "execution_count": 12,
     "metadata": {},
     "output_type": "execute_result"
    }
   ],
   "source": [
    "items"
   ]
  },
  {
   "cell_type": "code",
   "execution_count": 13,
   "id": "061c6def",
   "metadata": {},
   "outputs": [
    {
     "data": {
      "text/plain": [
       "['breads', 'butter', 'fruits', 'veggies']"
      ]
     },
     "execution_count": 13,
     "metadata": {},
     "output_type": "execute_result"
    }
   ],
   "source": [
    "items.remove(\"pasta\")\n",
    "items"
   ]
  },
  {
   "cell_type": "code",
   "execution_count": 14,
   "id": "030ee035",
   "metadata": {},
   "outputs": [
    {
     "data": {
      "text/plain": [
       "True"
      ]
     },
     "execution_count": 14,
     "metadata": {},
     "output_type": "execute_result"
    }
   ],
   "source": [
    "\"breads\" in items"
   ]
  },
  {
   "cell_type": "code",
   "execution_count": 15,
   "id": "a6b61306",
   "metadata": {},
   "outputs": [
    {
     "data": {
      "text/plain": [
       "[30, 1200, 45, 280, 500, 320]"
      ]
     },
     "execution_count": 15,
     "metadata": {},
     "output_type": "execute_result"
    }
   ],
   "source": [
    "expenses = [30,1200,45,280,500,320]\n",
    "expenses"
   ]
  },
  {
   "cell_type": "code",
   "execution_count": 16,
   "id": "94efafb7",
   "metadata": {},
   "outputs": [],
   "source": [
    "expenses.sort()"
   ]
  },
  {
   "cell_type": "code",
   "execution_count": 17,
   "id": "583f6f2f",
   "metadata": {},
   "outputs": [
    {
     "data": {
      "text/plain": [
       "[30, 45, 280, 320, 500, 1200]"
      ]
     },
     "execution_count": 17,
     "metadata": {},
     "output_type": "execute_result"
    }
   ],
   "source": [
    "expenses"
   ]
  },
  {
   "cell_type": "code",
   "execution_count": 6,
   "id": "cbeacca3",
   "metadata": {},
   "outputs": [
    {
     "data": {
      "text/plain": [
       "['Iron Man', 'Captain America', 'Black Widow', 'Hulk', 'Thor', 'Hawkeye']"
      ]
     },
     "execution_count": 6,
     "metadata": {},
     "output_type": "execute_result"
    }
   ],
   "source": [
    "avengers = [\"Iron Man\", \"Captain America\", \"Black Widow\", \"Hulk\", \"Thor\", \"Hawkeye\"]\n",
    "avengers"
   ]
  },
  {
   "cell_type": "code",
   "execution_count": 7,
   "id": "2f9151f0",
   "metadata": {},
   "outputs": [
    {
     "data": {
      "text/plain": [
       "6"
      ]
     },
     "execution_count": 7,
     "metadata": {},
     "output_type": "execute_result"
    }
   ],
   "source": [
    "len(avengers)"
   ]
  },
  {
   "cell_type": "code",
   "execution_count": 8,
   "id": "0ae0b2e4",
   "metadata": {},
   "outputs": [],
   "source": [
    "avengers.append(\"Spider Man\")"
   ]
  },
  {
   "cell_type": "code",
   "execution_count": 9,
   "id": "d1316056",
   "metadata": {},
   "outputs": [
    {
     "data": {
      "text/plain": [
       "['Iron Man',\n",
       " 'Captain America',\n",
       " 'Black Widow',\n",
       " 'Hulk',\n",
       " 'Thor',\n",
       " 'Hawkeye',\n",
       " 'Spider Man']"
      ]
     },
     "execution_count": 9,
     "metadata": {},
     "output_type": "execute_result"
    }
   ],
   "source": [
    "avengers"
   ]
  },
  {
   "cell_type": "code",
   "execution_count": 10,
   "id": "465dc9e8",
   "metadata": {},
   "outputs": [],
   "source": [
    "avengers.remove(\"Captain America\")"
   ]
  },
  {
   "cell_type": "code",
   "execution_count": 11,
   "id": "926ccd30",
   "metadata": {},
   "outputs": [],
   "source": [
    "avengers.insert(0,\"Captain America\")"
   ]
  },
  {
   "cell_type": "code",
   "execution_count": 12,
   "id": "de35db2d",
   "metadata": {},
   "outputs": [
    {
     "data": {
      "text/plain": [
       "['Captain America',\n",
       " 'Iron Man',\n",
       " 'Black Widow',\n",
       " 'Hulk',\n",
       " 'Thor',\n",
       " 'Hawkeye',\n",
       " 'Spider Man']"
      ]
     },
     "execution_count": 12,
     "metadata": {},
     "output_type": "execute_result"
    }
   ],
   "source": [
    "avengers"
   ]
  },
  {
   "cell_type": "code",
   "execution_count": 13,
   "id": "da051981",
   "metadata": {},
   "outputs": [],
   "source": [
    "avengers.remove(\"Hawkeye\")"
   ]
  },
  {
   "cell_type": "code",
   "execution_count": 14,
   "id": "1934fb7a",
   "metadata": {},
   "outputs": [
    {
     "data": {
      "text/plain": [
       "['Captain America',\n",
       " 'Iron Man',\n",
       " 'Black Widow',\n",
       " 'Hulk',\n",
       " 'Hawkeye',\n",
       " 'Thor',\n",
       " 'Spider Man']"
      ]
     },
     "execution_count": 14,
     "metadata": {},
     "output_type": "execute_result"
    }
   ],
   "source": [
    "avengers.insert(4,\"Hawkeye\")\n",
    "avengers"
   ]
  },
  {
   "cell_type": "code",
   "execution_count": 16,
   "id": "e712155d",
   "metadata": {},
   "outputs": [],
   "source": [
    "avengers.remove('Captain America')"
   ]
  },
  {
   "cell_type": "code",
   "execution_count": 17,
   "id": "71368c8d",
   "metadata": {},
   "outputs": [],
   "source": [
    "avengers.remove('Iron Man')"
   ]
  },
  {
   "cell_type": "code",
   "execution_count": 18,
   "id": "f136a940",
   "metadata": {},
   "outputs": [],
   "source": [
    "avengers.remove('Black Widow')"
   ]
  },
  {
   "cell_type": "code",
   "execution_count": 19,
   "id": "5c7960d1",
   "metadata": {},
   "outputs": [],
   "source": [
    "avengers.remove('Hulk')"
   ]
  },
  {
   "cell_type": "code",
   "execution_count": 20,
   "id": "9d566582",
   "metadata": {},
   "outputs": [],
   "source": [
    "avengers.remove('Hawkeye')"
   ]
  },
  {
   "cell_type": "code",
   "execution_count": 21,
   "id": "f2e7fdaf",
   "metadata": {},
   "outputs": [],
   "source": [
    "avengers.remove('Thor')"
   ]
  },
  {
   "cell_type": "code",
   "execution_count": 22,
   "id": "60e340c6",
   "metadata": {},
   "outputs": [
    {
     "data": {
      "text/plain": [
       "['Spider Man']"
      ]
     },
     "execution_count": 22,
     "metadata": {},
     "output_type": "execute_result"
    }
   ],
   "source": [
    "avengers"
   ]
  },
  {
   "cell_type": "code",
   "execution_count": 24,
   "id": "82c7b591",
   "metadata": {},
   "outputs": [],
   "source": [
    "avengers.append(\"Doctor Strange\")"
   ]
  },
  {
   "cell_type": "code",
   "execution_count": 25,
   "id": "c924c666",
   "metadata": {},
   "outputs": [],
   "source": [
    "avengers.append(\"Vision\")"
   ]
  },
  {
   "cell_type": "code",
   "execution_count": 26,
   "id": "3bf7007c",
   "metadata": {},
   "outputs": [],
   "source": [
    "avengers.append(\"Wanda\")"
   ]
  },
  {
   "cell_type": "code",
   "execution_count": 27,
   "id": "f35bb838",
   "metadata": {},
   "outputs": [],
   "source": [
    "avengers.append(\"Kate Bishop\")"
   ]
  },
  {
   "cell_type": "code",
   "execution_count": 28,
   "id": "e41931ed",
   "metadata": {},
   "outputs": [],
   "source": [
    "avengers.append(\"Ant-Man\")"
   ]
  },
  {
   "cell_type": "code",
   "execution_count": 29,
   "id": "c71c94fd",
   "metadata": {},
   "outputs": [
    {
     "data": {
      "text/plain": [
       "['Spider Man', 'Doctor Strange', 'Vision', 'Wanda', 'Kate Bishop', 'Ant-Man']"
      ]
     },
     "execution_count": 29,
     "metadata": {},
     "output_type": "execute_result"
    }
   ],
   "source": [
    "avengers"
   ]
  },
  {
   "cell_type": "code",
   "execution_count": 30,
   "id": "aba4b365",
   "metadata": {},
   "outputs": [
    {
     "data": {
      "text/plain": [
       "['Ant-Man', 'Doctor Strange', 'Kate Bishop', 'Spider Man', 'Vision', 'Wanda']"
      ]
     },
     "execution_count": 30,
     "metadata": {},
     "output_type": "execute_result"
    }
   ],
   "source": [
    "avengers.sort()\n",
    "avengers"
   ]
  },
  {
   "cell_type": "code",
   "execution_count": 31,
   "id": "b40b41a9",
   "metadata": {},
   "outputs": [
    {
     "data": {
      "text/plain": [
       "'Ant-Man'"
      ]
     },
     "execution_count": 31,
     "metadata": {},
     "output_type": "execute_result"
    }
   ],
   "source": [
    "avengers[0]"
   ]
  },
  {
   "cell_type": "code",
   "execution_count": null,
   "id": "5ce09c9a",
   "metadata": {},
   "outputs": [],
   "source": []
  }
 ],
 "metadata": {
  "kernelspec": {
   "display_name": "Python 3 (ipykernel)",
   "language": "python",
   "name": "python3"
  },
  "language_info": {
   "codemirror_mode": {
    "name": "ipython",
    "version": 3
   },
   "file_extension": ".py",
   "mimetype": "text/x-python",
   "name": "python",
   "nbconvert_exporter": "python",
   "pygments_lexer": "ipython3",
   "version": "3.9.7"
  }
 },
 "nbformat": 4,
 "nbformat_minor": 5
}
